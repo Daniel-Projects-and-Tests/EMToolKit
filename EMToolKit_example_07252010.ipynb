{
 "cells": [
  {
   "cell_type": "markdown",
   "id": "1c3b2076",
   "metadata": {},
   "source": [
    "# EMToolKit Dashboard Example\n",
    "## Multi-Instrument Method"
   ]
  },
  {
   "cell_type": "markdown",
   "id": "fd13bf2a",
   "metadata": {},
   "source": [
    "### Import Statements"
   ]
  },
  {
   "cell_type": "code",
   "execution_count": null,
   "id": "07ac727b",
   "metadata": {},
   "outputs": [],
   "source": [
    "#%pip install astropy scipy ipympl ndcube numba xrtpy sunpy\n",
    "from IPython.display import display, HTML\n",
    "display(HTML(\"<style>:root { --jp-notebook-max-width: 100% !important; }</style>\"))\n",
    "\n",
    "import importlib\n",
    "import numpy as np\n",
    "from sys import path\n",
    "import astropy.units as u\n",
    "import matplotlib.pyplot as plt\n",
    "\n",
    "# Enable interactive plotting with widgets\n",
    "%matplotlib widget\n",
    "\n",
    "# Set matplotlib parameters for better visualization\n",
    "plt.rcParams.update({'image.origin': 'lower'})\n",
    "np.set_printoptions(linewidth=128)\n",
    "\n",
    "# Define base path and append EMToolKit path\n",
    "base_path = \"../\"\n",
    "emtk_path = base_path + 'code/'\n",
    "path.append(emtk_path)\n",
    "\n",
    "# Import EMToolKit and its visualization module\n",
    "import EMToolKit.EMToolKit as emtk\n",
    "import EMToolKit\n",
    "import EMToolKit.visualization\n",
    "from EMToolKit.visualization.dashboard import dashboard_object\n",
    "from EMToolKit.instruments.aia import load_from_paths, aia_wrapper\n",
    "from EMToolKit.algorithms.sparse_em_wrapper import autoloading_sparse_em_wrapper\n",
    "from EMToolKit.algorithms.simple_reg_dem_wrapper import autoloading_simple_reg_dem_wrapper\n",
    "\n",
    "# Reload EMToolKit modules to ensure the latest version is used\n",
    "importlib.reload(EMToolKit)\n",
    "importlib.reload(EMToolKit.visualization)\n",
    "\n",
    "# Initialize an empty EM collection\n",
    "em_collection = 0"
   ]
  },
  {
   "cell_type": "code",
   "execution_count": null,
   "id": "15f030d9",
   "metadata": {},
   "outputs": [],
   "source": [
    "# These flags tell the program not to recalculate the data if it has already been calculated\n",
    "redownload = False\n",
    "recalc_sparse = True\n",
    "recalc_simple = True"
   ]
  },
  {
   "cell_type": "markdown",
   "id": "ff6bf67a",
   "metadata": {},
   "source": [
    "### Download the Imagery"
   ]
  },
  {
   "cell_type": "code",
   "execution_count": null,
   "id": "5783f36b",
   "metadata": {},
   "outputs": [],
   "source": [
    "from EMToolKit.instruments.aia import download_sdo_data\n",
    "\n",
    "date='2010/07/25 17:58:44'\n",
    "\n",
    "# Download the data\n",
    "aia_paths, sdo_data_dir = download_sdo_data(base_path, date, redownload=redownload)\n",
    "paths = aia_paths"
   ]
  },
  {
   "cell_type": "markdown",
   "id": "abb7c2e0",
   "metadata": {},
   "source": [
    "### Load and Crop the Imagery"
   ]
  },
  {
   "cell_type": "code",
   "execution_count": null,
   "id": "3597b531",
   "metadata": {},
   "outputs": [],
   "source": [
    "from EMToolKit.instruments.aia import load_from_paths, aia_wrapper\n",
    "\n",
    "xl, yl, = 240*u.arcsec, -525*u.arcsec # Left edge of FOV in arcseconds (relative to disk center)\n",
    "                                      # Right edge of FOV in arcseconds (relative to disk center)\n",
    "xlen, ylen  = 270*u.arcsec, 240*u.arcsec # X size of FOV in arcseconds # Y size of FOV in arcseconds\n",
    "\n",
    "\n",
    "# Load the AIA Images ###\n",
    "aiamaps = load_from_paths(aia_paths,xl=xl,yl=yl,dx=xlen,dy=ylen)\n",
    "\n",
    "temperature_array = np.arange(5.5, 7.5, 0.05)\n",
    "\n",
    "[maps,errs,trlogts,tresps] = aia_wrapper(aiamaps, temperature_array=temperature_array)"
   ]
  },
  {
   "cell_type": "code",
   "execution_count": null,
   "id": "a3bc7a1f",
   "metadata": {},
   "outputs": [],
   "source": [
    "# Normalizing the response functions makes them much easier for the solver to handle.\n",
    "datmax_nominal = 1.0e4 # The nominal maximum of the data\n",
    "overall_norm = datmax_nominal/np.max(np.array(tresps))\n",
    "norms = np.max(np.array(tresps),axis=0)/np.max(np.array(tresps))/overall_norm"
   ]
  },
  {
   "cell_type": "code",
   "execution_count": null,
   "id": "d9d9e99e",
   "metadata": {},
   "outputs": [],
   "source": [
    "# Make data sequence from AIA & XRT data:\n",
    "datasequence = emtk.em_data(maps,errs,trlogts,tresps)\n",
    "\n",
    "# Create em_collection with data sequence:\n",
    "em_collection = emtk.em_collection(datasequence)\n",
    "em_collection_HQ = emtk.em_collection(datasequence)"
   ]
  },
  {
   "cell_type": "code",
   "execution_count": null,
   "id": "fe6b296a",
   "metadata": {},
   "outputs": [],
   "source": [
    "# Show some of the AIA channels and their temperature responses for illustration:\n",
    "plt_emmax = 5.0e28  # Maximum emission value for plotting\n",
    "gfac = 1.0 / 2.2  # Gamma correction factor for visualization\n",
    "\n",
    "fig, axs = plt.subplots(2, 3)  # Create a figure with a 2x3 grid of subplots\n",
    "\n",
    "# Plot AIA 193 Angstrom channel\n",
    "axs[0, 0].imshow(np.clip(maps[1].data / np.max(tresps[1]), 0, plt_emmax) ** gfac, cmap=plt.get_cmap('gray'))\n",
    "axs[0, 0].set(title='AIA 193 Angstrom')\n",
    "axs[1, 0].plot(trlogts[1], tresps[1] / 1.0e-27)\n",
    "axs[1, 0].set(title='AIA 193 TResp', xlabel='Temperature (dB Kelvin)', ylabel='Response (DN/s/(10$^9$ cm$^{-3})^2$/Mm)')\n",
    "\n",
    "# Plot AIA 335 Angstrom channel\n",
    "axs[0, 1].imshow(np.clip(maps[2].data / np.max(tresps[2]), 0, plt_emmax) ** gfac, cmap=plt.get_cmap('gray'))\n",
    "axs[0, 1].set(title='AIA 335 Angstrom')\n",
    "axs[1, 1].plot(trlogts[2], tresps[2] / 1.0e-27)\n",
    "axs[1, 1].set(title='AIA 335 TResp', xlabel='Temperature (dB Kelvin)')\n",
    "\n",
    "# Plot AIA 94 Angstrom channel\n",
    "axs[0, 2].imshow(np.clip(maps[5].data / np.max(tresps[5]), 0, plt_emmax) ** gfac, cmap=plt.get_cmap('gray'))\n",
    "axs[0, 2].set(title='AIA 94 Angstrom')\n",
    "axs[1, 2].plot(trlogts[5], tresps[5] / 1.0e-27)\n",
    "axs[1, 2].set(title='AIA 94 TResp', xlabel='Temperature (dB Kelvin)')\n",
    "\n",
    "# Adjust layout and show the plots\n",
    "plt.tight_layout()\n",
    "plt.show()"
   ]
  },
  {
   "cell_type": "markdown",
   "id": "5722f6ff",
   "metadata": {},
   "source": [
    "### Compute the Differential Emission Measure"
   ]
  },
  {
   "cell_type": "code",
   "execution_count": null,
   "id": "3828a08f-77fd-4c6b-9688-3d14164bd9d3",
   "metadata": {},
   "outputs": [],
   "source": [
    "# Compute the DEM for Cheung et al. sparse EM method:\n",
    "# Make DEM sequence from the DEM and add it to the collection:\n",
    "sparse_em_demsequence, spars_out = autoloading_sparse_em_wrapper(datasequence)\n",
    "spars_coeffs, spars_logts, spars_bases, spars_coords, spars_algorithm = spars_out\n",
    "em_collection.add_model(sparse_em_demsequence)\n",
    "\n",
    "simple_reg_demsequence, simpl_out = autoloading_simple_reg_dem_wrapper(datasequence)\n",
    "simpl_coeffs, simpl_logts, simpl_bases, simpl_coords, simpl_algorithm = simpl_out\n",
    "em_collection.add_model(simple_reg_demsequence)\n",
    "\n"
   ]
  },
  {
   "cell_type": "markdown",
   "id": "cf50194e",
   "metadata": {},
   "source": [
    "### Run the Dashboard"
   ]
  },
  {
   "cell_type": "code",
   "execution_count": null,
   "id": "52bcd063",
   "metadata": {},
   "outputs": [],
   "source": [
    "# Get the most recent version from the tool kit:\n",
    "from EMToolKit.visualization.dashboard import dashboard_object\n",
    "importlib.reload(EMToolKit.visualization.dashboard)\n",
    "from EMToolKit.visualization.dashboard import dashboard_object\n",
    "\n",
    "# Suppress specific SunpyMetadataWarning\n",
    "import warnings\n",
    "from sunpy.util.exceptions import SunpyMetadataWarning\n",
    "warnings.filterwarnings(\"ignore\", category=SunpyMetadataWarning)"
   ]
  },
  {
   "cell_type": "code",
   "execution_count": null,
   "id": "c17d4f30",
   "metadata": {},
   "outputs": [],
   "source": [
    "# Create the dashboard:\n",
    "dash = dashboard_object(em_collection,xsize=16,ysize=9,fontsize=12)\n",
    "dash.display(True)"
   ]
  },
  {
   "cell_type": "code",
   "execution_count": null,
   "id": "271ad4d2-469d-483a-b680-e4512d9018fa",
   "metadata": {},
   "outputs": [],
   "source": []
  }
 ],
 "metadata": {
  "kernelspec": {
   "display_name": "Python 3 (ipykernel)",
   "language": "python",
   "name": "python3"
  },
  "language_info": {
   "codemirror_mode": {
    "name": "ipython",
    "version": 3
   },
   "file_extension": ".py",
   "mimetype": "text/x-python",
   "name": "python",
   "nbconvert_exporter": "python",
   "pygments_lexer": "ipython3",
   "version": "3.11.6"
  }
 },
 "nbformat": 4,
 "nbformat_minor": 5
}
